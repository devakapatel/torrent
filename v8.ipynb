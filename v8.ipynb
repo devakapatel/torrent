{
  "nbformat": 4,
  "nbformat_minor": 0,
  "metadata": {
    "colab": {
      "provenance": [],
      "gpuType": "V28"
    },
    "kernelspec": {
      "name": "python3",
      "display_name": "Python 3"
    },
    "language_info": {
      "name": "python"
    },
    "accelerator": "TPU"
  },
  "cells": [
    {
      "cell_type": "code",
      "execution_count": null,
      "metadata": {
        "id": "yJYee8L1RJtJ"
      },
      "outputs": [],
      "source": [
        "!wget https://raw.githubusercontent.com/devakapatel/torrent/main/torrent-bot-v8.py -O /content/torrent-bot-v8.py\n",
        "!python3 torrent-bot-v8.py"
      ]
    }
  ]
}